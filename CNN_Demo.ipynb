{
  "nbformat": 4,
  "nbformat_minor": 0,
  "metadata": {
    "colab": {
      "provenance": [],
      "gpuType": "T4"
    },
    "kernelspec": {
      "name": "python3",
      "display_name": "Python 3"
    },
    "language_info": {
      "name": "python"
    },
    "accelerator": "GPU"
  },
  "cells": [
    {
      "cell_type": "code",
      "execution_count": 13,
      "metadata": {
        "id": "Ini0UdLEBdrt"
      },
      "outputs": [],
      "source": [
        "import torch\n",
        "from torchvision import datasets\n",
        "from torchvision.transforms import ToTensor\n",
        "\n",
        "import matplotlib.pyplot as plt"
      ]
    },
    {
      "cell_type": "code",
      "source": [
        "device = torch.device('cuda' if torch.cuda.is_available() else 'cpu') # Connect to a GPU\n",
        "device"
      ],
      "metadata": {
        "id": "im2LfDGyCNiK",
        "outputId": "1ccad9bc-57bb-4fff-c1f4-92f00dc81286",
        "colab": {
          "base_uri": "https://localhost:8080/"
        }
      },
      "execution_count": 5,
      "outputs": [
        {
          "output_type": "execute_result",
          "data": {
            "text/plain": [
              "device(type='cuda')"
            ]
          },
          "metadata": {},
          "execution_count": 5
        }
      ]
    },
    {
      "cell_type": "code",
      "source": [
        "from google.colab import drive\n",
        "drive.mount('/content/drive')"
      ],
      "metadata": {
        "id": "3a2XITElC-qE",
        "outputId": "5ed74e7d-3f03-4473-ba39-b861289631a9",
        "colab": {
          "base_uri": "https://localhost:8080/"
        }
      },
      "execution_count": 6,
      "outputs": [
        {
          "output_type": "stream",
          "name": "stdout",
          "text": [
            "Mounted at /content/drive\n"
          ]
        }
      ]
    },
    {
      "cell_type": "code",
      "source": [
        "train_data = datasets.MNIST(root='/content/drive/MyDrive/UOM/MNIST', train=True, download=True, transform=ToTensor())\n",
        "test_data = datasets.MNIST(root='/content/drive/MyDrive/UOM/MNIST', train=False, download=True, transform=ToTensor())"
      ],
      "metadata": {
        "id": "33Mw28m9C_PM",
        "outputId": "6e0907a7-915f-4712-e824-6ac45153cc66",
        "colab": {
          "base_uri": "https://localhost:8080/"
        }
      },
      "execution_count": 9,
      "outputs": [
        {
          "output_type": "stream",
          "name": "stderr",
          "text": [
            "100%|██████████| 9.91M/9.91M [00:02<00:00, 4.35MB/s]\n",
            "100%|██████████| 28.9k/28.9k [00:00<00:00, 126kB/s]\n",
            "100%|██████████| 1.65M/1.65M [00:01<00:00, 1.17MB/s]\n",
            "100%|██████████| 4.54k/4.54k [00:00<00:00, 8.74MB/s]\n"
          ]
        }
      ]
    },
    {
      "cell_type": "code",
      "source": [
        "print(train_data)\n",
        "print(test_data)"
      ],
      "metadata": {
        "id": "_5rRJKnIEK5w",
        "outputId": "61e04236-03cc-4739-c54f-d4ace926135e",
        "colab": {
          "base_uri": "https://localhost:8080/"
        }
      },
      "execution_count": 11,
      "outputs": [
        {
          "output_type": "stream",
          "name": "stdout",
          "text": [
            "Dataset MNIST\n",
            "    Number of datapoints: 60000\n",
            "    Root location: /content/drive/MyDrive/UOM/MNIST\n",
            "    Split: Train\n",
            "    StandardTransform\n",
            "Transform: ToTensor()\n",
            "Dataset MNIST\n",
            "    Number of datapoints: 10000\n",
            "    Root location: /content/drive/MyDrive/UOM/MNIST\n",
            "    Split: Test\n",
            "    StandardTransform\n",
            "Transform: ToTensor()\n"
          ]
        }
      ]
    },
    {
      "cell_type": "code",
      "source": [
        "plt.imshow(train_data[0][0].squeeze(), cmap='gray')# Show one image in gray\n",
        "plt.title(train_data[0][1])\n",
        "plt.show()"
      ],
      "metadata": {
        "id": "wFocGcu1Eh1U",
        "outputId": "33e1edef-2909-41df-a5f3-ed75f44ef21f",
        "colab": {
          "base_uri": "https://localhost:8080/",
          "height": 452
        }
      },
      "execution_count": 16,
      "outputs": [
        {
          "output_type": "display_data",
          "data": {
            "text/plain": [
              "<Figure size 640x480 with 1 Axes>"
            ],
            "image/png": "[encoded data removed]"
          },
          "metadata": {}
        }
      ]
    },
    {
      "cell_type": "code",
      "source": [],
      "metadata": {
        "id": "aV8U6lJJE70l"
      },
      "execution_count": null,
      "outputs": []
    }
  ]
}