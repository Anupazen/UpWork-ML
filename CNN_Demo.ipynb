{
  "nbformat": 4,
  "nbformat_minor": 0,
  "metadata": {
    "colab": {
      "provenance": [],
      "gpuType": "T4"
    },
    "kernelspec": {
      "name": "python3",
      "display_name": "Python 3"
    },
    "language_info": {
      "name": "python"
    },
    "accelerator": "GPU"
  },
  "cells": [
    {
      "cell_type": "code",
      "execution_count": 13,
      "metadata": {
        "id": "Ini0UdLEBdrt"
      },
      "outputs": [],
      "source": [
        "import torch\n",
        "from torchvision import datasets\n",
        "from torchvision.transforms import ToTensor\n",
        "\n",
        "import matplotlib.pyplot as plt"
      ]
    },
    {
      "cell_type": "code",
      "source": [
        "device = torch.device('cuda' if torch.cuda.is_available() else 'cpu') # Connect to a GPU\n",
        "device"
      ],
      "metadata": {
        "colab": {
          "base_uri": "https://localhost:8080/"
        },
        "id": "im2LfDGyCNiK",
        "outputId": "1ccad9bc-57bb-4fff-c1f4-92f00dc81286"
      },
      "execution_count": 5,
      "outputs": [
        {
          "output_type": "execute_result",
          "data": {
            "text/plain": [
              "device(type='cuda')"
            ]
          },
          "metadata": {},
          "execution_count": 5
        }
      ]
    },
    {
      "cell_type": "code",
      "source": [
        "from google.colab import drive\n",
        "drive.mount('/content/drive')"
      ],
      "metadata": {
        "colab": {
          "base_uri": "https://localhost:8080/"
        },
        "id": "3a2XITElC-qE",
        "outputId": "5ed74e7d-3f03-4473-ba39-b861289631a9"
      },
      "execution_count": 6,
      "outputs": [
        {
          "output_type": "stream",
          "name": "stdout",
          "text": [
            "Mounted at /content/drive\n"
          ]
        }
      ]
    },
    {
      "cell_type": "code",
      "source": [
        "train_data = datasets.MNIST(root='/content/drive/MyDrive/UOM/MNIST', train=True, download=True, transform=ToTensor())\n",
        "test_data = datasets.MNIST(root='/content/drive/MyDrive/UOM/MNIST', train=False, download=True, transform=ToTensor())"
      ],
      "metadata": {
        "id": "33Mw28m9C_PM"
      },
      "execution_count": 37,
      "outputs": []
    },
    {
      "cell_type": "code",
      "source": [
        "print(train_data)\n",
        "print(test_data)"
      ],
      "metadata": {
        "colab": {
          "base_uri": "https://localhost:8080/"
        },
        "id": "_5rRJKnIEK5w",
        "outputId": "496e56c0-bfd6-4636-9a47-0dc06a5643fb"
      },
      "execution_count": 38,
      "outputs": [
        {
          "output_type": "stream",
          "name": "stdout",
          "text": [
            "Dataset MNIST\n",
            "    Number of datapoints: 60000\n",
            "    Root location: /content/drive/MyDrive/UOM/MNIST\n",
            "    Split: Train\n",
            "    StandardTransform\n",
            "Transform: ToTensor()\n",
            "Dataset MNIST\n",
            "    Number of datapoints: 10000\n",
            "    Root location: /content/drive/MyDrive/UOM/MNIST\n",
            "    Split: Test\n",
            "    StandardTransform\n",
            "Transform: ToTensor()\n"
          ]
        }
      ]
    },
    {
      "cell_type": "code",
      "source": [
        "plt.imshow(train_data[0][0].squeeze(), cmap='gray')# Show one image in gray\n",
        "plt.title(train_data[0][1])\n",
        "plt.show()"
      ],
      "metadata": {
        "colab": {
          "base_uri": "https://localhost:8080/",
          "height": 452
        },
        "id": "wFocGcu1Eh1U",
        "outputId": "b69fb655-0dae-4991-c04c-2be046f4fb20"
      },
      "execution_count": 39,
      "outputs": [
        {
          "output_type": "display_data",
          "data": {
            "text/plain": [
              "<Figure size 640x480 with 1 Axes>"
            ],
            "image/png": "[encoded data removed]"
          },
          "metadata": {}
        }
      ]
    },
    {
      "cell_type": "code",
      "source": [
        "num_images = 10\n",
        "fig, axes = plt.subplots(2, 5, figsize=(12, 5))\n",
        "\n",
        "axes = axes.flatten()\n",
        "\n",
        "for i in range(num_images):\n",
        "    axes[i].imshow(train_data[i][0].squeeze(), cmap='gray')\n",
        "    axes[i].set_title(train_data[i][1])\n",
        "    axes[i].axis('off')  # Hide axis ticks\n",
        "\n",
        "plt.tight_layout()\n",
        "plt.show()"
      ],
      "metadata": {
        "colab": {
          "base_uri": "https://localhost:8080/",
          "height": 468
        },
        "id": "aV8U6lJJE70l",
        "outputId": "24c10cca-0d50-44b2-c709-3d0e87ed0dec"
      },
      "execution_count": 40,
      "outputs": [
        {
          "output_type": "display_data",
          "data": {
            "text/plain": [
              "<Figure size 1200x500 with 10 Axes>"
            ],
            "image/png": "[encoded data removed]"
          },
          "metadata": {}
        }
      ]
    },
    {
      "cell_type": "code",
      "source": [
        "from torch.utils.data import DataLoader\n",
        "\n",
        "# This import the data as mini batches\n",
        "train_loader = DataLoader(train_data, batch_size=100, shuffle=True, num_workers=1)\n",
        "test_loader = DataLoader(test_data, batch_size=100, shuffle=False, num_workers=1)"
      ],
      "metadata": {
        "id": "Eubg3B8-GANi"
      },
      "execution_count": 41,
      "outputs": []
    },
    {
      "cell_type": "markdown",
      "source": [
        "## Neural Network Creation"
      ],
      "metadata": {
        "id": "O5-VbJ84HnRq"
      }
    },
    {
      "cell_type": "code",
      "source": [
        "import torch.nn as nn"
      ],
      "metadata": {
        "id": "PK7Z4hJ1HI95"
      },
      "execution_count": 42,
      "outputs": []
    },
    {
      "cell_type": "code",
      "source": [
        "class CNN(nn.Module):\n",
        "  def __init__(self):\n",
        "    super(CNN, self).__init__()\n",
        "    self.conv1 = nn.Sequential(\n",
        "        nn.Conv2d(\n",
        "            in_channels = 1, # because it is only gray scale...we don't need RGB\n",
        "            out_channels=16, # This is K\n",
        "            kernel_size=5,\n",
        "            stride=1,\n",
        "            padding=2,\n",
        "        ),\n",
        "        nn.ReLU(),\n",
        "        nn.MaxPool2d(kernel_size=2),\n",
        "    )\n",
        "\n",
        "    self.conv2 = nn.Sequential(\n",
        "        nn.Conv2d(\n",
        "            in_channels = 16, # because it is only gray scale...we don't have RGB\n",
        "            out_channels=32, # This is K\n",
        "            kernel_size=5,\n",
        "            stride=1,\n",
        "            padding=2,\n",
        "        ),\n",
        "        nn.ReLU(),\n",
        "        nn.MaxPool2d(kernel_size=2),\n",
        "    )\n",
        "\n",
        "    #Fully connected layer\n",
        "    self.out = nn.Linear(32*7*7, 10)\n",
        "\n",
        "  def forward(self, x):\n",
        "    x = self.conv1(x)\n",
        "    x = self.conv2(x)\n",
        "\n",
        "      #Reshape\n",
        "    x = x.view(x.size(0), -1) # Flatten\n",
        "    output = self.out(x)\n",
        "\n",
        "    return output, x"
      ],
      "metadata": {
        "id": "K95nbMwZHu1J"
      },
      "execution_count": 43,
      "outputs": []
    },
    {
      "cell_type": "code",
      "source": [
        "cnn = CNN()\n",
        "print(cnn)\n"
      ],
      "metadata": {
        "colab": {
          "base_uri": "https://localhost:8080/"
        },
        "id": "VOMnM4xaHz4r",
        "outputId": "46f6384a-8604-4bdf-f9a5-8486e2134185"
      },
      "execution_count": 44,
      "outputs": [
        {
          "output_type": "stream",
          "name": "stdout",
          "text": [
            "CNN(\n",
            "  (conv1): Sequential(\n",
            "    (0): Conv2d(1, 16, kernel_size=(5, 5), stride=(1, 1), padding=(2, 2))\n",
            "    (1): ReLU()\n",
            "    (2): MaxPool2d(kernel_size=2, stride=2, padding=0, dilation=1, ceil_mode=False)\n",
            "  )\n",
            "  (conv2): Sequential(\n",
            "    (0): Conv2d(16, 32, kernel_size=(5, 5), stride=(1, 1), padding=(2, 2))\n",
            "    (1): ReLU()\n",
            "    (2): MaxPool2d(kernel_size=2, stride=2, padding=0, dilation=1, ceil_mode=False)\n",
            "  )\n",
            "  (out): Linear(in_features=1568, out_features=10, bias=True)\n",
            ")\n"
          ]
        }
      ]
    },
    {
      "cell_type": "code",
      "source": [
        "from torch import optim\n",
        "from torch.autograd import Variable"
      ],
      "metadata": {
        "id": "cyCrNs_7LgBq"
      },
      "execution_count": 45,
      "outputs": []
    },
    {
      "cell_type": "code",
      "source": [
        "loss_function = nn.CrossEntropyLoss()\n",
        "optimizer = optim.Adam(cnn.parameters(), lr=0.01)"
      ],
      "metadata": {
        "id": "bxW6a9mFMJdj"
      },
      "execution_count": 46,
      "outputs": []
    },
    {
      "cell_type": "code",
      "source": [
        "num_epoch = 10\n",
        "\n",
        "def train(num_epoch, cnn, train_loader, test_loader):\n",
        "  cnn.train()\n",
        "\n",
        "  total_step = len(train_loader)\n",
        "\n",
        "  for epoch in range(num_epoch):\n",
        "    for i, (images, labels) in enumerate(train_loader):\n",
        "      images = Variable(images)\n",
        "      labels = Variable(labels)\n",
        "\n",
        "      optimizer.zero_grad()\n",
        "      outputs, _ = cnn(images)\n",
        "      loss = loss_function(outputs, labels)\n",
        "\n",
        "      optimizer.zero_grad()\n",
        "\n",
        "      loss.backward()\n",
        "\n",
        "      optimizer.step()\n",
        "\n",
        "      if (i+1) % 100==0:\n",
        "        print('Epoch [{}/{}], Step [{}/{}], Loss: {:.4f}'.format(epoch+1, num_epoch, i+1, total_step, loss.item()))\n",
        "        pass\n",
        "      pass\n",
        "    pass\n",
        "\n",
        "train(num_epoch,cnn,train_loader,test_loader)"
      ],
      "metadata": {
        "colab": {
          "base_uri": "https://localhost:8080/"
        },
        "id": "PAq1-urQMUjw",
        "outputId": "28a5b697-1135-4b13-a585-d13c162749da"
      },
      "execution_count": 47,
      "outputs": [
        {
          "output_type": "stream",
          "name": "stdout",
          "text": [
            "Epoch [1/10], Step [100/600], Loss: 0.1547\n",
            "Epoch [1/10], Step [200/600], Loss: 0.0952\n",
            "Epoch [1/10], Step [300/600], Loss: 0.1000\n",
            "Epoch [1/10], Step [400/600], Loss: 0.1270\n",
            "Epoch [1/10], Step [500/600], Loss: 0.0775\n",
            "Epoch [1/10], Step [600/600], Loss: 0.1085\n",
            "Epoch [2/10], Step [100/600], Loss: 0.0565\n",
            "Epoch [2/10], Step [200/600], Loss: 0.0216\n",
            "Epoch [2/10], Step [300/600], Loss: 0.0262\n",
            "Epoch [2/10], Step [400/600], Loss: 0.1172\n",
            "Epoch [2/10], Step [500/600], Loss: 0.0489\n",
            "Epoch [2/10], Step [600/600], Loss: 0.0515\n",
            "Epoch [3/10], Step [100/600], Loss: 0.1001\n",
            "Epoch [3/10], Step [200/600], Loss: 0.0292\n",
            "Epoch [3/10], Step [300/600], Loss: 0.0469\n",
            "Epoch [3/10], Step [400/600], Loss: 0.0361\n",
            "Epoch [3/10], Step [500/600], Loss: 0.0584\n",
            "Epoch [3/10], Step [600/600], Loss: 0.0441\n",
            "Epoch [4/10], Step [100/600], Loss: 0.0431\n",
            "Epoch [4/10], Step [200/600], Loss: 0.0195\n",
            "Epoch [4/10], Step [300/600], Loss: 0.0595\n",
            "Epoch [4/10], Step [400/600], Loss: 0.0071\n",
            "Epoch [4/10], Step [500/600], Loss: 0.0460\n",
            "Epoch [4/10], Step [600/600], Loss: 0.1161\n",
            "Epoch [5/10], Step [100/600], Loss: 0.0014\n",
            "Epoch [5/10], Step [200/600], Loss: 0.0939\n",
            "Epoch [5/10], Step [300/600], Loss: 0.0169\n",
            "Epoch [5/10], Step [400/600], Loss: 0.0052\n",
            "Epoch [5/10], Step [500/600], Loss: 0.0594\n",
            "Epoch [5/10], Step [600/600], Loss: 0.1499\n",
            "Epoch [6/10], Step [100/600], Loss: 0.0152\n",
            "Epoch [6/10], Step [200/600], Loss: 0.1873\n",
            "Epoch [6/10], Step [300/600], Loss: 0.0044\n",
            "Epoch [6/10], Step [400/600], Loss: 0.0724\n",
            "Epoch [6/10], Step [500/600], Loss: 0.0543\n",
            "Epoch [6/10], Step [600/600], Loss: 0.0214\n",
            "Epoch [7/10], Step [100/600], Loss: 0.0692\n",
            "Epoch [7/10], Step [200/600], Loss: 0.0035\n",
            "Epoch [7/10], Step [300/600], Loss: 0.0876\n",
            "Epoch [7/10], Step [400/600], Loss: 0.0806\n",
            "Epoch [7/10], Step [500/600], Loss: 0.0467\n",
            "Epoch [7/10], Step [600/600], Loss: 0.0823\n",
            "Epoch [8/10], Step [100/600], Loss: 0.0944\n",
            "Epoch [8/10], Step [200/600], Loss: 0.0261\n",
            "Epoch [8/10], Step [300/600], Loss: 0.1219\n",
            "Epoch [8/10], Step [400/600], Loss: 0.0422\n",
            "Epoch [8/10], Step [500/600], Loss: 0.0098\n",
            "Epoch [8/10], Step [600/600], Loss: 0.0338\n",
            "Epoch [9/10], Step [100/600], Loss: 0.1096\n",
            "Epoch [9/10], Step [200/600], Loss: 0.0077\n",
            "Epoch [9/10], Step [300/600], Loss: 0.0172\n",
            "Epoch [9/10], Step [400/600], Loss: 0.0042\n",
            "Epoch [9/10], Step [500/600], Loss: 0.0161\n",
            "Epoch [9/10], Step [600/600], Loss: 0.0178\n",
            "Epoch [10/10], Step [100/600], Loss: 0.0363\n",
            "Epoch [10/10], Step [200/600], Loss: 0.1475\n",
            "Epoch [10/10], Step [300/600], Loss: 0.1255\n",
            "Epoch [10/10], Step [400/600], Loss: 0.0345\n",
            "Epoch [10/10], Step [500/600], Loss: 0.1012\n",
            "Epoch [10/10], Step [600/600], Loss: 0.0560\n"
          ]
        }
      ]
    },
    {
      "cell_type": "code",
      "source": [
        "def test():\n",
        "  cnn.eval()\n",
        "  with torch.no_grad():\n",
        "    correct = 0\n",
        "    total = 0\n",
        "    for images, labels in test_loader:\n",
        "      test_output, last_layer = cnn(images)\n",
        "      pred_y = torch.max(test_output, 1)[1].data.squeeze()\n",
        "      accuracy = (pred_y == labels).sum().item() / float(labels.size(0))\n",
        "      pass\n",
        "    print('Test Accuracy: %.2f'%accuracy)\n",
        "    pass\n",
        "  pass\n",
        "test()"
      ],
      "metadata": {
        "colab": {
          "base_uri": "https://localhost:8080/"
        },
        "id": "TSwy-FV0Oi0Q",
        "outputId": "d35abc02-12e1-4b25-efa9-59eecc1ecc1d"
      },
      "execution_count": 53,
      "outputs": [
        {
          "output_type": "stream",
          "name": "stdout",
          "text": [
            "Test Accuracy: 0.97\n"
          ]
        }
      ]
    }
  ]
}